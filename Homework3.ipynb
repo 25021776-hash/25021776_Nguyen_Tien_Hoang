{
 "cells": [
  {
   "cell_type": "code",
   "id": "initial_id",
   "metadata": {
    "collapsed": true,
    "ExecuteTime": {
     "end_time": "2025-10-07T00:48:45.142546Z",
     "start_time": "2025-10-07T00:48:45.133763Z"
    }
   },
   "source": [
    "#B1\n",
    "for i in range(1,100,2):\n",
    "    print(i,end = \" \")"
   ],
   "outputs": [
    {
     "name": "stdout",
     "output_type": "stream",
     "text": [
      "1 3 5 7 9 11 13 15 17 19 21 23 25 27 29 31 33 35 37 39 41 43 45 47 49 51 53 55 57 59 61 63 65 67 69 71 73 75 77 79 81 83 85 87 89 91 93 95 97 99 "
     ]
    }
   ],
   "execution_count": 1
  },
  {
   "metadata": {
    "ExecuteTime": {
     "end_time": "2025-10-07T00:49:55.116899Z",
     "start_time": "2025-10-07T00:49:55.111465Z"
    }
   },
   "cell_type": "code",
   "source": [
    "#B2\n",
    "for i in range(6,100,6):\n",
    "    print(i,end = \" \")"
   ],
   "id": "44c1fb6b18bf2c51",
   "outputs": [
    {
     "name": "stdout",
     "output_type": "stream",
     "text": [
      "6 12 18 24 30 36 42 48 54 60 66 72 78 84 90 96 "
     ]
    }
   ],
   "execution_count": 2
  },
  {
   "metadata": {
    "ExecuteTime": {
     "end_time": "2025-10-07T00:51:10.366509Z",
     "start_time": "2025-10-07T00:51:05.210637Z"
    }
   },
   "cell_type": "code",
   "source": [
    "#B3\n",
    "a = int(input())\n",
    "for i in range(1,11):\n",
    "    print(f'{a} * {i} = {a * i}')"
   ],
   "id": "a71f7c28b8e9c94",
   "outputs": [
    {
     "name": "stdout",
     "output_type": "stream",
     "text": [
      "10 * 1 = 10\n",
      "10 * 2 = 20\n",
      "10 * 3 = 30\n",
      "10 * 4 = 40\n",
      "10 * 5 = 50\n",
      "10 * 6 = 60\n",
      "10 * 7 = 70\n",
      "10 * 8 = 80\n",
      "10 * 9 = 90\n",
      "10 * 10 = 100\n"
     ]
    }
   ],
   "execution_count": 3
  },
  {
   "metadata": {},
   "cell_type": "code",
   "outputs": [],
   "execution_count": null,
   "source": "#B4",
   "id": "edae5b1af2a1d595"
  },
  {
   "metadata": {
    "ExecuteTime": {
     "end_time": "2025-10-07T00:54:26.292395Z",
     "start_time": "2025-10-07T00:54:23.062482Z"
    }
   },
   "cell_type": "code",
   "source": [
    "#B5\n",
    "n = int(input())\n",
    "sum = 0\n",
    "for i in range(n + 1):\n",
    "    sum += i\n",
    "print(sum)\n"
   ],
   "id": "ef40f44422ab6e22",
   "outputs": [
    {
     "name": "stdout",
     "output_type": "stream",
     "text": [
      "45\n"
     ]
    }
   ],
   "execution_count": 4
  },
  {
   "metadata": {
    "ExecuteTime": {
     "end_time": "2025-10-07T00:55:54.057372Z",
     "start_time": "2025-10-07T00:55:50.853094Z"
    }
   },
   "cell_type": "code",
   "source": [
    "#B6\n",
    "a = int(input())\n",
    "for i in range(1,a):\n",
    "    if a % i == 0:\n",
    "        print(i,end=\" \")"
   ],
   "id": "5f0a6672dcd791a1",
   "outputs": [
    {
     "name": "stdout",
     "output_type": "stream",
     "text": [
      "1 2 5 10 25 "
     ]
    }
   ],
   "execution_count": 5
  },
  {
   "metadata": {
    "ExecuteTime": {
     "end_time": "2025-10-07T00:57:01.676249Z",
     "start_time": "2025-10-07T00:56:57.734492Z"
    }
   },
   "cell_type": "code",
   "source": [
    "#B7\n",
    "a = int(input())\n",
    "dem = 0\n",
    "for i in range(1,a):\n",
    "    if a % i == 0 :\n",
    "        dem  += 1\n",
    "print(dem)"
   ],
   "id": "2f21f804c8d3b811",
   "outputs": [
    {
     "name": "stdout",
     "output_type": "stream",
     "text": [
      "5\n"
     ]
    }
   ],
   "execution_count": 6
  },
  {
   "metadata": {
    "ExecuteTime": {
     "end_time": "2025-10-07T01:35:18.244773Z",
     "start_time": "2025-10-07T01:35:14.074875Z"
    }
   },
   "cell_type": "code",
   "source": [
    "#B8\n",
    "a, b = map(int, input().split())\n",
    "c =  min(a,b)\n",
    "for i in range(1,c  + 1):\n",
    "    if a % i == 0 and b % i == 0:\n",
    "        print(i,end=\" \")"
   ],
   "id": "12360f7d32d07483",
   "outputs": [
    {
     "name": "stdout",
     "output_type": "stream",
     "text": [
      "1 3 "
     ]
    }
   ],
   "execution_count": 8
  },
  {
   "metadata": {
    "ExecuteTime": {
     "end_time": "2025-10-07T01:38:02.075371Z",
     "start_time": "2025-10-07T01:37:58.349111Z"
    }
   },
   "cell_type": "code",
   "source": [
    "#B9\n",
    "from math import *\n",
    "a = int(input())\n",
    "c = isqrt(a)\n",
    "if c * c == a:\n",
    "    print(f'{a} la so chinh phuong')\n",
    "else:\n",
    "    print(f'{a} khong la so chinh phuong')"
   ],
   "id": "84e4783080669017",
   "outputs": [
    {
     "name": "stdout",
     "output_type": "stream",
     "text": [
      "16 la so chinh phuong\n"
     ]
    }
   ],
   "execution_count": 9
  },
  {
   "metadata": {
    "ExecuteTime": {
     "end_time": "2025-10-07T01:41:06.488745Z",
     "start_time": "2025-10-07T01:41:03.986592Z"
    }
   },
   "cell_type": "code",
   "source": [
    "#B10\n",
    "a = int(input())\n",
    "sum = 0\n",
    "for i in range(1,a):\n",
    "    if a % i == 0:\n",
    "        sum += i\n",
    "if sum == a:\n",
    "    print(f'{a} la so hoan hao')\n",
    "else:\n",
    "    print(f'{a} khong la so hoan hao')"
   ],
   "id": "b080a4a1a7d3873",
   "outputs": [
    {
     "name": "stdout",
     "output_type": "stream",
     "text": [
      "28 la so hoan hao\n"
     ]
    }
   ],
   "execution_count": 11
  },
  {
   "metadata": {
    "ExecuteTime": {
     "end_time": "2025-10-07T01:43:00.016703Z",
     "start_time": "2025-10-07T01:42:53.637975Z"
    }
   },
   "cell_type": "code",
   "source": [
    "#B11\n",
    "while True:\n",
    "    a = int(input(\"Nhập vào số nguyên a: \"))\n",
    "    if a > 0:\n",
    "        print(\"Bạn nhập đúng quy tắc\")\n",
    "        break\n",
    "    else:\n",
    "        print(\"Số không hợp lệ, vui lòng nhập lại.\")\n"
   ],
   "id": "11f30afd43bc91ab",
   "outputs": [
    {
     "name": "stdout",
     "output_type": "stream",
     "text": [
      "Số không hợp lệ, vui lòng nhập lại.\n",
      "Bạn nhập đúng quy tắc\n"
     ]
    }
   ],
   "execution_count": 12
  },
  {
   "metadata": {
    "ExecuteTime": {
     "end_time": "2025-10-07T02:03:51.527904Z",
     "start_time": "2025-10-07T02:03:48.522834Z"
    }
   },
   "cell_type": "code",
   "source": [
    "#B12\n",
    "n = int(input())\n",
    "i = 1\n",
    "sum = 1\n",
    "while sum < n:\n",
    "    i += 1\n",
    "    sum += i\n",
    "print(i - 1)\n"
   ],
   "id": "366e09332293e48a",
   "outputs": [
    {
     "name": "stdout",
     "output_type": "stream",
     "text": [
      "7\n"
     ]
    }
   ],
   "execution_count": 13
  },
  {
   "metadata": {
    "ExecuteTime": {
     "end_time": "2025-10-07T02:08:07.356104Z",
     "start_time": "2025-10-07T02:08:05.717541Z"
    }
   },
   "cell_type": "code",
   "source": [
    "#B13\n",
    "a = int(input())\n",
    "sum = 1\n",
    "i = 1\n",
    "while sum < a:\n",
    "    i += 1\n",
    "    sum += 1/ i\n",
    "print(i )\n"
   ],
   "id": "f70a0dcf23b39ab2",
   "outputs": [
    {
     "name": "stdout",
     "output_type": "stream",
     "text": [
      "11\n"
     ]
    }
   ],
   "execution_count": 14
  },
  {
   "metadata": {},
   "cell_type": "code",
   "outputs": [],
   "execution_count": null,
   "source": "#B14\n",
   "id": "57cef3e9c1d8fb81"
  },
  {
   "metadata": {
    "ExecuteTime": {
     "end_time": "2025-10-07T16:25:42.902187Z",
     "start_time": "2025-10-07T16:25:39.227928Z"
    }
   },
   "cell_type": "code",
   "source": [
    "#B15\n",
    "n = int(input())\n",
    "cnt = 0\n",
    "while n != 0:\n",
    "    cnt += 1\n",
    "    n //= 10\n",
    "print(cnt)"
   ],
   "id": "440e8ae9682123a5",
   "outputs": [
    {
     "name": "stdout",
     "output_type": "stream",
     "text": [
      "6\n"
     ]
    }
   ],
   "execution_count": 4
  },
  {
   "metadata": {
    "ExecuteTime": {
     "end_time": "2025-10-07T16:28:03.024794Z",
     "start_time": "2025-10-07T16:27:57.771153Z"
    }
   },
   "cell_type": "code",
   "source": [
    "#B16\n",
    "n = int(input())\n",
    "m = n\n",
    "chan = 0\n",
    "le = 0\n",
    "while n != 0:\n",
    "    if (n % 10) % 2 == 0:\n",
    "        chan += 1\n",
    "    else:\n",
    "        le += 1\n",
    "    n //= 10\n",
    "print(f'{m} co {chan} chu so chan')\n",
    "print(f'{m} co {le} chu so le ')"
   ],
   "id": "a8d657b951ecb519",
   "outputs": [
    {
     "name": "stdout",
     "output_type": "stream",
     "text": [
      "5879 co 1 chu so chan\n",
      "5879 co 3 chu so le \n"
     ]
    }
   ],
   "execution_count": 6
  },
  {
   "metadata": {
    "ExecuteTime": {
     "end_time": "2025-10-07T16:29:19.753961Z",
     "start_time": "2025-10-07T16:29:16.127108Z"
    }
   },
   "cell_type": "code",
   "source": [
    "#B17\n",
    "n = int(input())\n",
    "tong = 0\n",
    "while n != 0:\n",
    "    tong += n % 10\n",
    "    n //= 10\n",
    "print(tong)"
   ],
   "id": "404ed53b004c72d9",
   "outputs": [
    {
     "name": "stdout",
     "output_type": "stream",
     "text": [
      "17\n"
     ]
    }
   ],
   "execution_count": 7
  },
  {
   "metadata": {
    "ExecuteTime": {
     "end_time": "2025-10-07T16:31:52.399363Z",
     "start_time": "2025-10-07T16:31:49.714293Z"
    }
   },
   "cell_type": "code",
   "source": [
    "#B18\n",
    "from math import *\n",
    "n = int(input())\n",
    "j = int(cbrt(n))\n",
    "if j ** 3 == n:\n",
    "    print(f'{n} co dang 3^k')\n",
    "else:\n",
    "    print(f'{n} khong co dang 3^k')"
   ],
   "id": "a2ca764b05b0d7df",
   "outputs": [
    {
     "name": "stdout",
     "output_type": "stream",
     "text": [
      "19 khong co dang 3^k\n"
     ]
    }
   ],
   "execution_count": 10
  },
  {
   "metadata": {
    "ExecuteTime": {
     "end_time": "2025-10-07T16:50:23.398376Z",
     "start_time": "2025-10-07T16:50:19.654432Z"
    }
   },
   "cell_type": "code",
   "source": [
    "#B19\n",
    "f1,f2 = 1,1\n",
    "a =[1,1]\n",
    "m = int(input())\n",
    "for i in range(3,100):\n",
    "    f = f1 + f2\n",
    "    a.append(f)\n",
    "    f1,f2 = f,f1\n",
    "if m in a:\n",
    "    print(m)\n",
    "else:\n",
    "    for i in range(0,100):\n",
    "        if a[i] > m :\n",
    "            print(a[i - 1])\n",
    "            break\n"
   ],
   "id": "82348fd2427c6a3f",
   "outputs": [
    {
     "name": "stdout",
     "output_type": "stream",
     "text": [
      "75025\n"
     ]
    }
   ],
   "execution_count": 12
  },
  {
   "metadata": {
    "ExecuteTime": {
     "end_time": "2025-10-07T16:35:33.006329Z",
     "start_time": "2025-10-07T16:35:28.211571Z"
    }
   },
   "cell_type": "code",
   "outputs": [
    {
     "name": "stdout",
     "output_type": "stream",
     "text": [
      "23479 co 3 chu so nguyen to\n"
     ]
    }
   ],
   "execution_count": 11,
   "source": [
    "#B20\n",
    "n = int(input())\n",
    "m = n\n",
    "dem = 0\n",
    "while n != 0:\n",
    "    k = n % 10\n",
    "    if k == 2 or k == 3 or k == 5 or k == 7:\n",
    "        dem += 1\n",
    "    n //= 10\n",
    "print(f'{m} co {dem} chu so nguyen to')"
   ],
   "id": "36a74904aaa2ca82"
  }
 ],
 "metadata": {
  "kernelspec": {
   "display_name": "Python 3",
   "language": "python",
   "name": "python3"
  },
  "language_info": {
   "codemirror_mode": {
    "name": "ipython",
    "version": 2
   },
   "file_extension": ".py",
   "mimetype": "text/x-python",
   "name": "python",
   "nbconvert_exporter": "python",
   "pygments_lexer": "ipython2",
   "version": "2.7.6"
  }
 },
 "nbformat": 4,
 "nbformat_minor": 5
}
