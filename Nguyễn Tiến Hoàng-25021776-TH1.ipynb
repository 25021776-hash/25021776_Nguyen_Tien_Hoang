{
  "metadata": {
    "kernelspec": {
      "name": "python",
      "display_name": "Python (Pyodide)",
      "language": "python"
    },
    "language_info": {
      "codemirror_mode": {
        "name": "python",
        "version": 3
      },
      "file_extension": ".py",
      "mimetype": "text/x-python",
      "name": "python",
      "nbconvert_exporter": "python",
      "pygments_lexer": "ipython3",
      "version": "3.8"
    }
  },
  "nbformat_minor": 5,
  "nbformat": 4,
  "cells": [
    {
      "id": "eb275483-09ae-4642-804f-ee2cdebb3632",
      "cell_type": "code",
      "source": "#W1A1\na = 7      # Gán giá trị 7 cho biến a\nb = 5      # Gán giá trị 5 cho biến b\nc = a - b  # Tính hiệu của a và b, gán cho biến c (7 - 5 = 2)\nprint(c)   # In giá trị của c ra màn hình\n\n\n\n",
      "metadata": {
        "trusted": true
      },
      "outputs": [],
      "execution_count": null
    },
    {
      "id": "d0b01b99-a9ca-460b-8c45-5a3f37affe37",
      "cell_type": "code",
      "source": "#W1A2\ncity = \"Hà Nội\"        # Gán chuỗi \"Hà Nội\" cho biến city\nyear = 2025            # Gán số nguyên 2025 cho biến year\nprint(\"Thành phố: \", city, \" - Năm: \", year)\n# In ra chuỗi kết hợp với giá trị của biến city và year\n\n\n",
      "metadata": {
        "trusted": true
      },
      "outputs": [],
      "execution_count": null
    },
    {
      "id": "e6fae41d-05d0-43e7-bc7f-05e00e176f11",
      "cell_type": "code",
      "source": "#W1A3\nn = 4\nt = 0\nfor i in range(1, n+1):\nt += i        # Lỗi: dòng này chưa thụt lề vào trong vòng for\nprint(t)\n#SỬA\nn = 4                 # Gán biến n bằng 4\nt = 0                 # Khởi tạo biến t để lưu tổng, bắt đầu từ 0\n\nfor i in range(1, n+1):  # Vòng lặp từ 1 đến 4 (n+1 vì range không tính số cuối)\n    t += i              # Cộng giá trị i vào tổng t (t = t + i)\n\nprint(t)               # In ra tổng các số từ 1 đến 4\n\n\n\n",
      "metadata": {
        "trusted": true
      },
      "outputs": [],
      "execution_count": null
    },
    {
      "id": "e4e5cff4-2d84-4551-b07e-8a518e046c4b",
      "cell_type": "code",
      "source": "#W1A4\nnumbers = [1, 2, 3, 4]      # Tạo danh sách numbers gồm các số 1, 2, 3, 4\n\nfor x in numbers:            # Lặp qua từng phần tử x trong danh sách\nif x % 2 == 0:              # LỖI: Dòng này chưa được thụt lề vào trong vòng for\nprint(x, \"là số chẵn\")      # LỖI: Dòng này cũng chưa được thụt lề, phải nằm trong if\nelse:                       # LỖI: Dòng này chưa thụt lề, phải thụt vào cùng cấp với if\nprint(x, \"là số lẻ\")        # LỖI: Dòng này chưa thụt lề, phải nằm trong else\n\n# ------ Sửa lại đoạn code đúng với thụt lề chuẩn như sau ------\n\nnumbers = [1, 2, 3, 4]      # Tạo danh sách numbers gồm các số 1, 2, 3, 4\n\nfor x in numbers:            # Lặp qua từng phần tử x trong danh sách\n    if x % 2 == 0:          # Kiểm tra nếu x chia hết cho 2 (số chẵn)\n        print(x, \"là số chẵn\")  # In ra x là số chẵn\n    else:                   # Nếu không phải số chẵn thì là số lẻ\n        print(x, \"là số lẻ\")    # In ra x là số lẻ\n\n",
      "metadata": {
        "trusted": true
      },
      "outputs": [],
      "execution_count": null
    },
    {
      "id": "457d7f5e-3b48-4980-88eb-ea7c6a147022",
      "cell_type": "code",
      "source": "#W1A5\nĐoạn code ban đầu:\nanimals = [\"cat\", \"dog\", \"cat\", \"bird\"]\ncount = 0\nfor a in animals:\ncount += 1\nprint(\"Số phần tử trong danh sách là:\", count) \n\n\"\"\"Tìm lỗi:\n\nLỗi thụt lề: Dòng count += 1 chưa thụt vào bên trong vòng for. Trong Python, mọi câu lệnh bên trong vòng lặp phải được thụt lề đúng chuẩn (thường 4 dấu cách hoặc 1 tab).\n\nDòng print nằm ngoài vòng lặp, điều này đúng nếu bạn muốn in kết quả sau khi đếm xong.\n\nPhiên bản sửa lỗi và chú thích\"\"\"\nanimals = [\"cat\", \"dog\", \"cat\", \"bird\"]       # Tạo danh sách animals gồm các con vật\ncount = 0                                     # Khởi tạo biến đếm count bằng 0\n\nfor a in animals:                             # Lặp qua từng phần tử trong danh sách animals\n    count += 1                               # Tăng biến đếm count lên 1 cho mỗi phần tử\n\nprint(\"Số phần tử trong danh sách là:\", count)   # In ra tổng số phần tử sau khi đếm xong\n",
      "metadata": {
        "trusted": true
      },
      "outputs": [],
      "execution_count": null
    },
    {
      "id": "d82ec6c4-c859-480f-ba45-6934da524ba9",
      "cell_type": "code",
      "source": "#W1A6\nĐoạn bạn đưa ra là phần giao diện menu của một chương trình gọi là AI Prediction System (Hệ thống dự đoán AI). Đây là đoạn text hiển thị để người dùng lựa chọn một trong các tùy chọn sau:\n\n=== AI Prediction System ===\n1) Sentiment analysis\n2) Weather forecast\n3) Exit\nPlease choose an option:\n\n1. Chương trình này đang làm gì?\n\nĐây là menu để người dùng chọn tính năng họ muốn sử dụng trong hệ thống AI.\n\nCác lựa chọn gồm:\n\n1) Sentiment analysis: Phân tích cảm xúc — chương trình sẽ nhận dữ liệu (ví dụ: câu văn, bài đăng) và dự đoán cảm xúc tích cực, tiêu cực hoặc trung lập.\n\n2) Weather forecast: Dự báo thời tiết — chương trình sẽ cung cấp dự báo thời tiết cho một khu vực cụ thể.\n\n3) Exit: Thoát chương trình.\n\nDòng cuối cùng \"Please choose an option:\" là lời nhắc để người dùng nhập số tương ứng với lựa chọn của họ.\n\n2. Vì sao có kết quả như vậy?\n\nĐoạn text này được thiết kế để tương tác với người dùng thông qua giao diện dòng lệnh.\n\nKhi chương trình chạy, nó in ra menu và chờ người dùng nhập lựa chọn.\n\nDựa vào lựa chọn của người dùng (ví dụ: nhập 1 hoặc 2), chương trình sẽ tiếp tục thực hiện các tác vụ tương ứng (phân tích cảm xúc hoặc dự báo thời tiết).\n\nNếu người dùng chọn 3, chương trình sẽ kết thúc.",
      "metadata": {
        "trusted": true
      },
      "outputs": [],
      "execution_count": null
    },
    {
      "id": "b3c7df9a-b659-498c-925e-8df5971a8aa8",
      "cell_type": "code",
      "source": "#W1A7\n\"\"\"Dưới đây là phân tích lỗi và đoạn code sửa đúng:\n\nLỗi trong code bạn đưa:\"\"\"\nnum = input(\"Nhập số: \")\nif num % 2 = 0:\nprint(\"Số chẵn\")\nelse\nprint(\"Số lẻ\")\n\n\ninput() trả về chuỗi (string), nhưng bạn đang dùng toán tử % để chia số, nên phải chuyển num thành kiểu số nguyên (int).\n\nToán tử so sánh dùng trong if phải là ==, bạn đang dùng = (dấu gán).\n\nThiếu dấu hai chấm (:) sau câu lệnh else.\n\nLỗi thụt lề: Dòng print trong if và else chưa thụt vào trong đúng mức.\n\nCode sửa đúng:\nnum = int(input(\"Nhập số: \"))   # Chuyển input sang số nguyên\n\nif num % 2 == 0:               # So sánh bằng 0 để kiểm tra số chẵn\n    print(\"Số chẵn\")           # In ra nếu số chẵn\nelse:\n    print(\"Số lẻ\")             # In ra nếu số lẻ\n\nGiải thích:\n\nint(input()) giúp chuyển chuỗi nhập vào thành số nguyên để có thể thực hiện phép toán %.\n\n== dùng để so sánh, = dùng để gán nên phải dùng == trong điều kiện if.\n\nDấu : bắt buộc sau if và else.\n\nCác câu lệnh trong if và else phải thụt lề đúng.",
      "metadata": {
        "trusted": true
      },
      "outputs": [],
      "execution_count": null
    },
    {
      "id": "142a465a-eba9-49a3-9c2c-c898ac07be72",
      "cell_type": "code",
      "source": "",
      "metadata": {
        "trusted": true
      },
      "outputs": [],
      "execution_count": null
    },
    {
      "id": "d8d7bc4f-87d6-4568-8c0e-97a8ab71c11c",
      "cell_type": "code",
      "source": "#W1A8\nDưới đây là phần giải thích chi tiết về đoạn code bạn đưa:\n\nfor i in range(3):\n    print(\"AI đang học lần\", i + 1)\nprint(\"Huấn luyện xong!\")\n\n1. Đoạn code in ra gì?\n\nKết quả khi chạy đoạn code trên sẽ là:\n\nAI đang học lần 1\nAI đang học lần 2\nAI đang học lần 3\nHuấn luyện xong!\n\n2. Vì sao in ra như vậy?\n\nfor i in range(3): tạo vòng lặp với biến i chạy từ 0 đến 2 (tổng cộng 3 lần).\n\nTrong mỗi lần lặp, lệnh print(\"AI đang học lần\", i + 1) được thực hiện, in ra dòng \"AI đang học lần\" kèm số lần lặp (cộng thêm 1 vì i bắt đầu từ 0).\n\nSau khi vòng lặp kết thúc, lệnh print(\"Huấn luyện xong!\") được thực hiện một lần duy nhất.\n\nLưu ý: dòng \"Huấn luyện xong!\" không nằm trong vòng lặp vì không được thụt vào bên trong for",
      "metadata": {
        "trusted": true
      },
      "outputs": [],
      "execution_count": null
    },
    {
      "id": "facb1a63-17cc-401b-9e37-6db739c67be5",
      "cell_type": "code",
      "source": "#W1A9\nĐoạn code bạn đưa:\n\nfor x in [\"cat\", \"dog\", \"fish\"]:\n    print(\"Dự đoán con vật:\", x)\n\n1. Đoạn code in ra bao nhiêu dòng?\n\nĐoạn code này sẽ in ra 3 dòng, tương ứng với từng phần tử trong danh sách [\"cat\", \"dog\", \"fish\"].\n\n2. Nội dung các dòng in ra là gì?\n\nCụ thể từng dòng sẽ là:\n\nDự đoán con vật: cat\nDự đoán con vật: dog\nDự đoán con vật: fish\n\nGiải thích:\n\nVòng lặp for x in [\"cat\", \"dog\", \"fish\"] sẽ lần lượt lấy giá trị \"cat\", \"dog\", \"fish\" gán vào biến x.\n\nMỗi lần lặp, câu lệnh print(\"Dự đoán con vật:\", x) in ra dòng với giá trị hiện tại của x.\n\nDo có 3 phần tử trong danh sách nên chương trình in 3 dòng tương ứng.",
      "metadata": {
        "trusted": true
      },
      "outputs": [],
      "execution_count": null
    },
    {
      "id": "65c70bac-f926-42a3-930f-3f15ca139809",
      "cell_type": "code",
      "source": "#W1A10\nĐoạn code bạn đưa có một số lỗi cú pháp. Mình sẽ liệt kê lỗi và sửa lại để chạy đúng nhé.\n\nĐoạn code lỗi:\n# Simple menu\nprint \"=== AI Prediction System ===\"\nprint(\"1) Sentiment analysis\"\nprint(\"2) Weather forecast\"))\nprint('3) Exit'\nprint(\"Please choose an option:\")\n\nLỗi tìm thấy:\n\nCú pháp print thiếu dấu ngoặc:\n\nDòng print \"=== AI Prediction System ===\" thiếu dấu ngoặc đơn (Python 3 bắt buộc dùng print()).\n\nDòng 3 và 4 thiếu hoặc thừa dấu ngoặc:\n\nDòng print(\"1) Sentiment analysis\" thiếu dấu đóng ngoặc ).\n\nDòng print(\"2) Weather forecast\")) thừa dấu ).\n\nDòng 5 thiếu dấu ngoặc đóng:\n\nprint('3) Exit' thiếu dấu đóng ngoặc.\n\nPhiên bản sửa lỗi đúng:\n# Simple menu\nprint(\"=== AI Prediction System ===\")\nprint(\"1) Sentiment analysis\")\nprint(\"2) Weather forecast\")\nprint(\"3) Exit\")\nprint(\"Please choose an option:\")\n\nGiải thích:\n\nTrong Python 3, print phải được gọi với dấu ngoặc tròn như print().\n\nMỗi câu lệnh print() cần có dấu ngoặc mở và đóng đầy đủ.\n\nKhông được thừa hoặc thiếu dấu ngoặc.",
      "metadata": {
        "trusted": true
      },
      "outputs": [],
      "execution_count": null
    }
  ]
}