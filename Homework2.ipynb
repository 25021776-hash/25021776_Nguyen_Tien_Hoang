{
 "cells": [
  {
   "cell_type": "code",
   "execution_count": 6,
   "id": "ca9e32bb50269499",
   "metadata": {
    "ExecuteTime": {
     "start_time": "2025-10-07T00:35:23.276647Z"
    },
    "jupyter": {
     "is_executing": true
    }
   },
   "outputs": [
    {
     "name": "stdin",
     "output_type": "stream",
     "text": [
      " 7 8\n"
     ]
    },
    {
     "name": "stdout",
     "output_type": "stream",
     "text": [
      "30.0\n",
      "56.0\n"
     ]
    }
   ],
   "source": [
    "#B1\n",
    "a,b = map(float,input().split())\n",
    "print((a + b) * 2)\n",
    "print(a * b)"
   ]
  },
  {
   "cell_type": "code",
   "execution_count": 9,
   "id": "439c9fb5-7ae6-459b-b50b-72d1a7eac57a",
   "metadata": {},
   "outputs": [
    {
     "name": "stdin",
     "output_type": "stream",
     "text": [
      " 5\n"
     ]
    },
    {
     "name": "stdout",
     "output_type": "stream",
     "text": [
      "31.400000000000002\n",
      "78.5\n"
     ]
    }
   ],
   "source": [
    "#B2\n",
    "r = float(input())\n",
    "print(3.14 * 2 * r)\n",
    "print(3.14 * r * r)\n"
   ]
  },
  {
   "cell_type": "code",
   "execution_count": 10,
   "id": "657e2f25-8603-470b-9a5d-4285f6550d03",
   "metadata": {},
   "outputs": [
    {
     "name": "stdin",
     "output_type": "stream",
     "text": [
      " 9 10 11\n"
     ]
    },
    {
     "name": "stdout",
     "output_type": "stream",
     "text": [
      "TAM GIAC THUONG\n",
      "30.0\n",
      "42.42640687119285\n"
     ]
    }
   ],
   "source": [
    "#B3\n",
    "from math import *\n",
    "a,b,c = map(float,input().split())\n",
    "if a > 0 and b > 0 and c > 0 and a + b > c and a + c > b and b + c > a:\n",
    "    if a == b and b == c:\n",
    "        print(\"DEU\")\n",
    "    elif a == b or b == c or a == c:\n",
    "        print(\"CAN\")\n",
    "    elif a ** 2 + b ** 2 == c ** 2 or a ** 2 + c ** 2 == b ** 2 or b ** 2 + c ** 2 == a ** 2:\n",
    "        print(\"VUONG\")\n",
    "    else:\n",
    "        print(\"TAM GIAC THUONG\")\n",
    "    cv = a + b + c\n",
    "    print(cv)\n",
    "    dt = (cv / 2) * (cv / 2 - a) * (cv / 2 - b) * (cv / 2 - c)\n",
    "    print(sqrt(dt))\n",
    "else:\n",
    "    print(\"KHONG HOP LE\")"
   ]
  },
  {
   "cell_type": "code",
   "execution_count": 11,
   "id": "37d7f0b7-6bf5-4873-8a2e-498badbd73c1",
   "metadata": {},
   "outputs": [
    {
     "name": "stdin",
     "output_type": "stream",
     "text": [
      " 10 8\n"
     ]
    },
    {
     "name": "stdout",
     "output_type": "stream",
     "text": [
      "-0.8\n"
     ]
    }
   ],
   "source": [
    "#B4\n",
    "a,b = map(float,input().split())\n",
    "if a == 0:\n",
    "    if b == 0:\n",
    "        print(\"Phuong trinh vo so nghiem\")\n",
    "    else:\n",
    "        print(\"Phuong trinh vo  nghiem\")\n",
    "else:\n",
    "    print(- b / a)"
   ]
  },
  {
   "cell_type": "code",
   "execution_count": 12,
   "id": "9fc11415-ecfa-40fe-a1c5-cfd894fc2ee1",
   "metadata": {},
   "outputs": [
    {
     "name": "stdin",
     "output_type": "stream",
     "text": [
      " 1 2 4\n"
     ]
    },
    {
     "name": "stdout",
     "output_type": "stream",
     "text": [
      "Phuong trinh vo nghiem\n"
     ]
    }
   ],
   "source": [
    "#B5\n",
    "a,b,c = map(float,input().split())\n",
    "if a == 0:\n",
    "    if b == 0:\n",
    "        if c == 0:\n",
    "            print(\"Phuong trinh vo so nghiem\")\n",
    "        else:\n",
    "            print(\"Phuong trinh vo  nghiem\")\n",
    "    else:\n",
    "        print( - c / b)\n",
    "else:\n",
    "    det =  b ** 2 - 4 * a * c\n",
    "    if det > 0:\n",
    "        x1 = (-b + sqrt(det)) / (2 * a)\n",
    "        x2 = (-b - sqrt(det)) / (2 * a)\n",
    "        print(x1,x2)\n",
    "    elif det == 0:\n",
    "        x = -b / (2 * a)\n",
    "        print(x)\n",
    "    else:\n",
    "        print(\"Phuong trinh vo nghiem\")"
   ]
  },
  {
   "cell_type": "code",
   "execution_count": 14,
   "id": "151c6d35-cb09-457f-958e-acc8ecc2d259",
   "metadata": {},
   "outputs": [
    {
     "name": "stdin",
     "output_type": "stream",
     "text": [
      " 9 10 11 50\n"
     ]
    },
    {
     "name": "stdout",
     "output_type": "stream",
     "text": [
      "50.0\n"
     ]
    }
   ],
   "source": [
    "#B6\n",
    "a,b,c,d = map(float,input().split())\n",
    "print(max(a,b,c,d))"
   ]
  },
  {
   "cell_type": "code",
   "execution_count": 15,
   "id": "50bbe84a-207d-499b-9def-e0b5db9bdee5",
   "metadata": {},
   "outputs": [
    {
     "name": "stdin",
     "output_type": "stream",
     "text": [
      " 1 2 3 4\n"
     ]
    },
    {
     "name": "stdout",
     "output_type": "stream",
     "text": [
      "1.0\n"
     ]
    }
   ],
   "source": [
    "#B7\n",
    "a,b,c,d = map(float,input().split())\n",
    "print(min(a,b,c,d))\n"
   ]
  },
  {
   "cell_type": "code",
   "execution_count": 16,
   "id": "bc97735f-f40d-4aec-a046-2e47bd6de3d5",
   "metadata": {},
   "outputs": [
    {
     "name": "stdin",
     "output_type": "stream",
     "text": [
      " 3600\n"
     ]
    },
    {
     "name": "stdout",
     "output_type": "stream",
     "text": [
      "1 gio 0 phut 0 giay\n"
     ]
    }
   ],
   "source": [
    "#B9\n",
    "x = int(input())\n",
    "if x % 3600 == 0:\n",
    "    print(x // 3600,\"gio 0 phut 0 giay\")\n",
    "else:\n",
    "    if (x % 3600) % 60 == 0:\n",
    "        print(x // 3600,\"gio\", (x % 3600) // 60,\"phut 0 giay\" )\n",
    "    else:\n",
    "        print(x // 3600,\"gio\", (x % 3600) // 60,\"phut\", (x % 3600) % 60,\"giay\" )"
   ]
  },
  {
   "cell_type": "code",
   "execution_count": 17,
   "id": "9fe88927-b632-4f60-98b8-97e254dc70f7",
   "metadata": {},
   "outputs": [
    {
     "name": "stdin",
     "output_type": "stream",
     "text": [
      " 1 10 112 4 56\n"
     ]
    },
    {
     "name": "stdout",
     "output_type": "stream",
     "text": [
      "A khong thuoc duong tron\n"
     ]
    }
   ],
   "source": [
    "#B10\n",
    "a,b,r,x,y = map(float,input().split())\n",
    "pt = (x - a) ** 2 + (y - b) ** 2\n",
    "if pt == r ** 2:\n",
    "    print(\"A thuoc duong tron\")\n",
    "else:\n",
    "    print(\"A khong thuoc duong tron\")"
   ]
  },
  {
   "cell_type": "code",
   "execution_count": 18,
   "id": "9c9c1454-55fe-4ff7-b240-c2953ed09d9d",
   "metadata": {},
   "outputs": [
    {
     "name": "stdin",
     "output_type": "stream",
     "text": [
      " 9 10\n"
     ]
    },
    {
     "name": "stdout",
     "output_type": "stream",
     "text": [
      "3486784401.0\n"
     ]
    }
   ],
   "source": [
    "#B11\n",
    "x,y = map(float,input().split())\n",
    "print(x ** y)"
   ]
  },
  {
   "cell_type": "code",
   "execution_count": null,
   "id": "611b81fd-74ac-4517-9ea1-28df7f37aa64",
   "metadata": {},
   "outputs": [],
   "source": []
  }
 ],
 "metadata": {
  "kernelspec": {
   "display_name": "Python 3 (ipykernel)",
   "language": "python",
   "name": "python3"
  },
  "language_info": {
   "codemirror_mode": {
    "name": "ipython",
    "version": 3
   },
   "file_extension": ".py",
   "mimetype": "text/x-python",
   "name": "python",
   "nbconvert_exporter": "python",
   "pygments_lexer": "ipython3",
   "version": "3.13.5"
  }
 },
 "nbformat": 4,
 "nbformat_minor": 5
}
