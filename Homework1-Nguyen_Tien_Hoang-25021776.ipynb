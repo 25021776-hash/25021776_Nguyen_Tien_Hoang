{
 "cells": [
  {
   "cell_type": "code",
   "execution_count": 11,
   "id": "b74a2a96-57c9-4fe4-b686-a97c6470d6e7",
   "metadata": {},
   "outputs": [
    {
     "name": "stdin",
     "output_type": "stream",
     "text": [
      " 9\n"
     ]
    },
    {
     "name": "stdout",
     "output_type": "stream",
     "text": [
      "9 la so le\n"
     ]
    }
   ],
   "source": [
    "#BTK1\n",
    "n = int(input())\n",
    "if n % 2 == 0:\n",
    "    print(n,\"la so chan\")\n",
    "else:\n",
    "    print(n,\"la so le\")"
   ]
  },
  {
   "cell_type": "code",
   "execution_count": 12,
   "id": "56211da1-5905-46cd-8656-d2ab255ec7f8",
   "metadata": {},
   "outputs": [
    {
     "name": "stdin",
     "output_type": "stream",
     "text": [
      " 45\n"
     ]
    },
    {
     "name": "stdout",
     "output_type": "stream",
     "text": [
      "True\n"
     ]
    }
   ],
   "source": [
    "\n",
    "# BTK2\n",
    "n = int(input())\n",
    "if n % 10 == 5:\n",
    "    print(\"True\")\n",
    "else:\n",
    "    print(\"False\")"
   ]
  },
  {
   "cell_type": "code",
   "execution_count": 13,
   "id": "8acf96cf-a21d-4faf-9abe-eab764ec3782",
   "metadata": {},
   "outputs": [
    {
     "name": "stdin",
     "output_type": "stream",
     "text": [
      " 15\n"
     ]
    },
    {
     "name": "stdout",
     "output_type": "stream",
     "text": [
      "True\n"
     ]
    }
   ],
   "source": [
    "#BTK3\n",
    "n = int(input())\n",
    "if n % 3 == 0 and n % 5 == 0:\n",
    "    print(\"True\")\n",
    "else:\n",
    "    print(\"False\")"
   ]
  },
  {
   "cell_type": "code",
   "execution_count": 14,
   "id": "9e9f6ffc-3080-4ea5-b175-5aabc124f2b7",
   "metadata": {},
   "outputs": [
    {
     "name": "stdin",
     "output_type": "stream",
     "text": [
      " 1980\n"
     ]
    },
    {
     "name": "stdout",
     "output_type": "stream",
     "text": [
      "du tuoi\n"
     ]
    }
   ],
   "source": [
    "#BTK4\n",
    "n = int(input())\n",
    "tuoi = 2025 - n\n",
    "if n >= 18:\n",
    "    print(\"du tuoi\")\n",
    "else:\n",
    "    print(\"ko du tuoi\")\n"
   ]
  },
  {
   "cell_type": "code",
   "execution_count": 15,
   "id": "8f21c302-4c6a-42bd-adce-902b5dda2271",
   "metadata": {},
   "outputs": [
    {
     "name": "stdin",
     "output_type": "stream",
     "text": [
      " 8 9\n"
     ]
    },
    {
     "name": "stdout",
     "output_type": "stream",
     "text": [
      "9\n"
     ]
    }
   ],
   "source": [
    "#BTK5\n",
    "a,b = map(int, input().split())\n",
    "if a > b:\n",
    "    print(a)\n",
    "elif a < b:\n",
    "    print(b)\n",
    "else:\n",
    "    print(\"2 so bang nhau\")"
   ]
  },
  {
   "cell_type": "code",
   "execution_count": 16,
   "id": "d2fc6f02-3941-403f-9fd9-d9183898cd1a",
   "metadata": {},
   "outputs": [
    {
     "name": "stdin",
     "output_type": "stream",
     "text": [
      " j\n"
     ]
    },
    {
     "name": "stdout",
     "output_type": "stream",
     "text": [
      "Chu in thuong\n"
     ]
    }
   ],
   "source": [
    "#BTK6\n",
    "n = input()\n",
    "if ord(n) >= 97 and ord(n) <= 122:\n",
    "    print(\"Chu in thuong\")\n",
    "elif ord(n) >= 65 and ord(n) <= 90:\n",
    "    print(\"Chu in hoa\")\n",
    "elif ord(n) >= 48 and ord(n) <= 57:\n",
    "    print(\"So\")\n",
    "else:\n",
    "    print(\"INVALID\")\n"
   ]
  },
  {
   "cell_type": "code",
   "execution_count": 17,
   "id": "593ddb70-8d15-4137-8332-7f0d761602ef",
   "metadata": {},
   "outputs": [
    {
     "name": "stdin",
     "output_type": "stream",
     "text": [
      " 9\n"
     ]
    },
    {
     "name": "stdout",
     "output_type": "stream",
     "text": [
      "GIOI\n"
     ]
    }
   ],
   "source": [
    "#BTK7\n",
    "n = int(input())\n",
    "if n >= 8:\n",
    "    print(\"GIOI\")\n",
    "elif n >= 6.5:\n",
    "    print(\"KHA\")\n",
    "elif n >= 5:\n",
    "    print(\"TRUNG BINH\")\n",
    "else:\n",
    "    print(\"YEU\")"
   ]
  },
  {
   "cell_type": "code",
   "execution_count": 25,
   "id": "105afdf1-a521-43bb-8629-3a244a1f7cb4",
   "metadata": {},
   "outputs": [
    {
     "name": "stdin",
     "output_type": "stream",
     "text": [
      " 2000\n"
     ]
    },
    {
     "name": "stdout",
     "output_type": "stream",
     "text": [
      "True\n"
     ]
    }
   ],
   "source": [
    "#BTK8\n",
    "n = int(input())\n",
    "if n % 400 == 0 or (n % 4 == 0 and n % 100 != 0):\n",
    "    print(\"True\")\n",
    "else:\n",
    "    print(\"False\")"
   ]
  },
  {
   "cell_type": "code",
   "execution_count": 23,
   "id": "a64d9766-3580-4210-9d89-39ba8270b9ef",
   "metadata": {},
   "outputs": [
    {
     "name": "stdin",
     "output_type": "stream",
     "text": [
      " 3\n"
     ]
    },
    {
     "name": "stdout",
     "output_type": "stream",
     "text": [
      "BA\n"
     ]
    }
   ],
   "source": [
    "#BTK9\n",
    "n = int(input())\n",
    "match n :\n",
    "    case 0:\n",
    "        print(\"KHONG\")\n",
    "    case 1:\n",
    "        print(\"MOT\")\n",
    "    case 2:\n",
    "        print(\"HAI\")\n",
    "    case 3:\n",
    "        print(\"BA\")\n",
    "    case 4:\n",
    "        print(\"BON\")\n",
    "    case 5:\n",
    "        print(\"NAM\")\n",
    "    case 6:\n",
    "        print(\"SAU\")\n",
    "    case 7:\n",
    "        print(\"BAY\")\n",
    "    case 8:\n",
    "        print(\"TAM\")\n",
    "    case 9:\n",
    "        print(\"CHIN\")"
   ]
  },
  {
   "cell_type": "code",
   "execution_count": 26,
   "id": "c14b9866-c2d8-44f9-b473-16db35eb5937",
   "metadata": {},
   "outputs": [
    {
     "name": "stdin",
     "output_type": "stream",
     "text": [
      " 7\n"
     ]
    },
    {
     "name": "stdout",
     "output_type": "stream",
     "text": [
      "Qua mon\n"
     ]
    }
   ],
   "source": [
    "#BTK10\n",
    "n = int(input())\n",
    "if n >= 4 :\n",
    "    print(\"Qua mon\")\n",
    "else:\n",
    "    print(\"Hoc lai\")"
   ]
  },
  {
   "cell_type": "code",
   "execution_count": 27,
   "id": "9f2ec5bd-4228-43cd-8ec1-19b492c874cb",
   "metadata": {},
   "outputs": [
    {
     "name": "stdin",
     "output_type": "stream",
     "text": [
      " 1980\n"
     ]
    },
    {
     "name": "stdout",
     "output_type": "stream",
     "text": [
      "du tuoi\n"
     ]
    }
   ],
   "source": [
    "#BTK11\n",
    "n = int(input())\n",
    "tuoi = 2025 - n\n",
    "if n >= 18:\n",
    "    print(\"du tuoi\")\n",
    "else:\n",
    "    print(\"ko du tuoi\")"
   ]
  },
  {
   "cell_type": "code",
   "execution_count": null,
   "id": "8203f848-9f75-4626-81e7-c4bffae8ad1f",
   "metadata": {},
   "outputs": [],
   "source": []
  }
 ],
 "metadata": {
  "kernelspec": {
   "display_name": "Python 3 (ipykernel)",
   "language": "python",
   "name": "python3"
  },
  "language_info": {
   "codemirror_mode": {
    "name": "ipython",
    "version": 3
   },
   "file_extension": ".py",
   "mimetype": "text/x-python",
   "name": "python",
   "nbconvert_exporter": "python",
   "pygments_lexer": "ipython3",
   "version": "3.13.7"
  }
 },
 "nbformat": 4,
 "nbformat_minor": 5
}
