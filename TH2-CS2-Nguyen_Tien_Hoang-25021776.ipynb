{
 "cells": [
  {
   "cell_type": "code",
   "execution_count": 2,
   "id": "f30d361b-e0d1-4299-96de-a9eefaf1d529",
   "metadata": {},
   "outputs": [
    {
     "name": "stdin",
     "output_type": "stream",
     "text": [
      " 4\n"
     ]
    },
    {
     "name": "stdout",
     "output_type": "stream",
     "text": [
      "8\n"
     ]
    }
   ],
   "source": [
    "#BT1\n",
    "n = int(input())\n",
    "print(2 * n)\n"
   ]
  },
  {
   "cell_type": "code",
   "execution_count": 3,
   "id": "0dc981c2-8bf8-4707-9082-544d1accf9dd",
   "metadata": {},
   "outputs": [
    {
     "name": "stdin",
     "output_type": "stream",
     "text": [
      " 7 8.9\n"
     ]
    },
    {
     "name": "stdout",
     "output_type": "stream",
     "text": [
      "23.84\n"
     ]
    }
   ],
   "source": [
    "#BT2\n",
    "a, b = map(float, input().split())\n",
    "r = a / 2\n",
    "dientich = a * b - (3.14 * (r ** 2))\n",
    "print('%.2f' % dientich)"
   ]
  },
  {
   "cell_type": "code",
   "execution_count": 4,
   "id": "a3634f70-5d31-433c-9c92-f95996fde1fc",
   "metadata": {},
   "outputs": [
    {
     "name": "stdin",
     "output_type": "stream",
     "text": [
      " m\n"
     ]
    },
    {
     "name": "stdout",
     "output_type": "stream",
     "text": [
      "M\n"
     ]
    }
   ],
   "source": [
    "#BT3\n",
    "n = input()\n",
    "if ord(n) >= 97 and ord(n) <= 122:\n",
    "    k = ord(n) - 32\n",
    "    print(chr(k))\n",
    "elif ord(n) >= 65 and ord(n) <= 90:\n",
    "    k = ord(n) + 32\n",
    "    print(chr(k))"
   ]
  },
  {
   "cell_type": "code",
   "execution_count": 5,
   "id": "d68ce068-e12e-40f4-a6c6-2e0cf7e1eeb2",
   "metadata": {},
   "outputs": [
    {
     "name": "stdin",
     "output_type": "stream",
     "text": [
      " j\n"
     ]
    },
    {
     "name": "stdout",
     "output_type": "stream",
     "text": [
      "j la ki tu alphabet\n"
     ]
    }
   ],
   "source": [
    "#BT4\n",
    "n = input()\n",
    "if (ord(n) >= 97 and ord(n) <= 122) or (ord(n) >= 65 and ord(n) <= 90):\n",
    "    print(f\"{n} la ki tu alphabet\")\n",
    "else:\n",
    "    print(f\"{n} khong la ki tu alphabet\")"
   ]
  },
  {
   "cell_type": "code",
   "execution_count": 6,
   "id": "3de8d42a-7444-42fa-91f8-b525d00e479f",
   "metadata": {},
   "outputs": [
    {
     "name": "stdin",
     "output_type": "stream",
     "text": [
      " K\n"
     ]
    },
    {
     "name": "stdout",
     "output_type": "stream",
     "text": [
      "j\n"
     ]
    }
   ],
   "source": [
    "#BT5\n",
    "n = input()\n",
    "if ord(n) == 65:\n",
    "    print(chr(ord(n) + 32))\n",
    "elif ord(n) > 65 and ord(n) <= 98:\n",
    "    print(chr(ord(n) + 31))\n"
   ]
  },
  {
   "cell_type": "code",
   "execution_count": 8,
   "id": "2e061a29-d466-4de1-bc94-1f9a886b8376",
   "metadata": {},
   "outputs": [
    {
     "name": "stdin",
     "output_type": "stream",
     "text": [
      " 3 4 5\n"
     ]
    },
    {
     "name": "stdout",
     "output_type": "stream",
     "text": [
      "6.0\n"
     ]
    }
   ],
   "source": [
    "#BT6\n",
    "from math import *\n",
    "a, b, c = map(float, input().split())\n",
    "if a > 0 and b > 0 and c > 0 and a + b > c and a + c > b and b + c > a:\n",
    "    p = (a + b + c) / 2\n",
    "    k = (p - a) * (p - b) * (p - c) * p\n",
    "    print('%.1f' % sqrt(k))\n",
    "else:\n",
    "    print(\"Khong phai 3 canh cua tam giac\")"
   ]
  },
  {
   "cell_type": "code",
   "execution_count": 9,
   "id": "9986a775-68fd-4954-8c8c-b7557730852e",
   "metadata": {},
   "outputs": [
    {
     "name": "stdin",
     "output_type": "stream",
     "text": [
      " hoang6478468743\n"
     ]
    },
    {
     "name": "stdout",
     "output_type": "stream",
     "text": [
      "g\n",
      "8\n"
     ]
    }
   ],
   "source": [
    "#BT7\n",
    "n = input()\n",
    "a = list(n)\n",
    "print(a[4])\n",
    "print(a[8])"
   ]
  },
  {
   "cell_type": "code",
   "execution_count": 10,
   "id": "8e513665-1444-4a43-934a-fd5f8a127d90",
   "metadata": {},
   "outputs": [
    {
     "name": "stdin",
     "output_type": "stream",
     "text": [
      "Ten chu ho : Nguyen Van A\n",
      "Chi so thang truoc la : 1270\n",
      "Chi so thang nay la :  2345\n"
     ]
    },
    {
     "name": "stdout",
     "output_type": "stream",
     "text": [
      "Ho va ten: Nguyen Van A\n",
      "Tien phai tra la : 3682800\n"
     ]
    }
   ],
   "source": [
    "#BT8\n",
    "n = input(\"Ten chu ho :\")\n",
    "n1 = int(input(\"Chi so thang truoc la :\"))\n",
    "n2 = int(input(\"Chi so thang nay la : \"))\n",
    "k = n2 - n1\n",
    "if k <= 50 :\n",
    "    print(f\"Ho va ten: {n}\")\n",
    "    print(\"Tien phai tra la :\",round(k * 1984 * 1.08))\n",
    "elif k <= 100 :\n",
    "    m = 50 * 1984 + (k - 50) * 2050\n",
    "    print(f\"Ho va ten: {n}\")\n",
    "    print(\"Tien phai tra la :\",round(m * 1.08))\n",
    "elif k <= 200:\n",
    "    j = 50 * 1984 + 50 * 2050 + (k - 100) * 2380\n",
    "    print(f\"Ho va ten: {n}\")\n",
    "    print(\"Tien phai tra la :\",round(j * 1.08))\n",
    "elif k <= 300:\n",
    "    p = 50 * 1984 + 50 * 2050 + 100 * 2380 + (k - 100) * 2998\n",
    "    print(f\"Ho va ten: {n}\")\n",
    "    print(\"Tien phai tra la :\",round(p * 1.08))\n",
    "elif k <= 400:\n",
    "    q = 50 * 1984 + 50 * 2050 + 100 * 2380 + 100 * 2998 + (k - 100) * 3350\n",
    "    print(f\"Ho va ten: {n}\")\n",
    "    print(\"Tien phai tra la :\",round(q * 1.08))\n",
    "else:\n",
    "    r = 50 * 1984 + 50 * 2050 + 100 * 2380 + 100 * 2998 + 100 * 3350 + (k - 400) * 3460\n",
    "    print(f\"Ho va ten: {n}\")\n",
    "    print(\"Tien phai tra la :\",round(r * 1.08))"
   ]
  },
  {
   "cell_type": "code",
   "execution_count": null,
   "id": "7808b6aa-0981-4979-a23b-e657341c10f1",
   "metadata": {},
   "outputs": [],
   "source": []
  }
 ],
 "metadata": {
  "kernelspec": {
   "display_name": "Python 3 (ipykernel)",
   "language": "python",
   "name": "python3"
  },
  "language_info": {
   "codemirror_mode": {
    "name": "ipython",
    "version": 3
   },
   "file_extension": ".py",
   "mimetype": "text/x-python",
   "name": "python",
   "nbconvert_exporter": "python",
   "pygments_lexer": "ipython3",
   "version": "3.13.7"
  }
 },
 "nbformat": 4,
 "nbformat_minor": 5
}
